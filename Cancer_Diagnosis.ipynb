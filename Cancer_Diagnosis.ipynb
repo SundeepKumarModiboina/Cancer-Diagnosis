{
  "cells": [
    {
      "metadata": {
        "collapsed": true
      },
      "cell_type": "markdown",
      "source": "### 1. Import all the required libraries"
    },
    {
      "metadata": {
        "trusted": true
      },
      "cell_type": "code",
      "source": "import pandas as pd\nimport numpy as np\nimport matplotlib.pyplot as plt\nimport seaborn as sns\nimport warnings\nwarnings.filterwarnings(\"ignore\")\n\n\nfrom nltk.corpus import stopwords\nfrom nltk.tokenize import word_tokenize, sent_tokenize, regexp_tokenize\nfrom nltk.stem import PorterStemmer\nfrom nltk.stem import WordNetLemmatizer\n\nimport re\nimport time\nfrom pprint import pprint\nimport pprintpp\n\nfrom sklearn.model_selection import train_test_split\nfrom sklearn.feature_extraction.text import TfidfVectorizer",
      "execution_count": 86,
      "outputs": []
    },
    {
      "metadata": {},
      "cell_type": "markdown",
      "source": "### 2. Read the input data"
    },
    {
      "metadata": {
        "trusted": true
      },
      "cell_type": "code",
      "source": "data = pd.read_csv(\"Cancer_data.csv\")\ndata.head()",
      "execution_count": 97,
      "outputs": [
        {
          "output_type": "execute_result",
          "execution_count": 97,
          "data": {
            "text/html": "<div>\n<style scoped>\n    .dataframe tbody tr th:only-of-type {\n        vertical-align: middle;\n    }\n\n    .dataframe tbody tr th {\n        vertical-align: top;\n    }\n\n    .dataframe thead th {\n        text-align: right;\n    }\n</style>\n<table border=\"1\" class=\"dataframe\">\n  <thead>\n    <tr style=\"text-align: right;\">\n      <th></th>\n      <th>Text</th>\n      <th>Class</th>\n    </tr>\n  </thead>\n  <tbody>\n    <tr>\n      <th>0</th>\n      <td>abstract background non small cell lung cancer...</td>\n      <td>1</td>\n    </tr>\n    <tr>\n      <th>1</th>\n      <td>abstract background non small cell lung cancer...</td>\n      <td>2</td>\n    </tr>\n    <tr>\n      <th>2</th>\n      <td>recent evid demonstr acquir uniparent disomi a...</td>\n      <td>2</td>\n    </tr>\n    <tr>\n      <th>3</th>\n      <td>oncogen mutat monomer casita b lineag lymphoma...</td>\n      <td>3</td>\n    </tr>\n    <tr>\n      <th>4</th>\n      <td>oncogen mutat monomer casita b lineag lymphoma...</td>\n      <td>4</td>\n    </tr>\n  </tbody>\n</table>\n</div>",
            "text/plain": "                                                Text  Class\n0  abstract background non small cell lung cancer...      1\n1  abstract background non small cell lung cancer...      2\n2  recent evid demonstr acquir uniparent disomi a...      2\n3  oncogen mutat monomer casita b lineag lymphoma...      3\n4  oncogen mutat monomer casita b lineag lymphoma...      4"
          },
          "metadata": {}
        }
      ]
    },
    {
      "metadata": {
        "trusted": true
      },
      "cell_type": "code",
      "source": "print(\"The shape of the input text data is : \", data.shape)",
      "execution_count": 98,
      "outputs": [
        {
          "output_type": "stream",
          "text": "The shape of the input text data is :  (500, 2)\n",
          "name": "stdout"
        }
      ]
    },
    {
      "metadata": {},
      "cell_type": "markdown",
      "source": "### 3. Processing the input text data"
    },
    {
      "metadata": {},
      "cell_type": "markdown",
      "source": "#### 3.1 Initializing the Stemmer and Lemmatizer"
    },
    {
      "metadata": {
        "trusted": true
      },
      "cell_type": "code",
      "source": "stop_words = stopwords.words('english')\nporter = PorterStemmer()\nlemmer = WordNetLemmatizer()",
      "execution_count": 99,
      "outputs": []
    },
    {
      "metadata": {},
      "cell_type": "markdown",
      "source": "#### 3.2 Creating the Corpus"
    },
    {
      "metadata": {
        "trusted": true
      },
      "cell_type": "code",
      "source": "text = data[\"Text\"]\nline = text[0]\nprint(\"The line is : \\n\", line)\nprint(\"The type of line is :\", type(line))",
      "execution_count": 100,
      "outputs": [
        {
          "output_type": "stream",
          "text": "The line is : \n abstract background non small cell lung cancer nsclc heterogen group disord number genet proteom alter c cbl e3 ubiquitin ligas adaptor molecul import normal homeostasi cancer determin genet variat c cbl relationship receptor tyrosin kina egfr met function nsclc method find use archiv formalin fix paraffin embed ffpe extract genom dna show c cbl mutat occur somat fashion lung cancer c cbl mutat mutual exclus met egfr mutat howev independ p53 kra mutat normal tumor pairwis analysi signific loss heterozygos loh c cbl locu 22 n 8 37 none sampl reveal mutat remain copi c cbl c cbl loh also posit correl egfr met mutat observ sampl use select c cbl somat mutat s80n h94i q249e w802 obtain caucasian taiwanes african american sampl respect transfect nsclc cell line increas cell viabil cell motil conclus take overal mutat rate c cbl combin somat missens mutat loh clear c cbl highli mutat lung cancer may play essenti role lung tumorigenesi metastasi go introduct u alon year approxim 219 400 peopl diagnos lung cancer 145 000 succumb diseas 1 number roughli equival combin mortal rate cancer breast prostat colon liver kidney melanoma 1 addit prognosi usual poor five year surviv rate le 15 also signific ethnic differ lung cancer outcom wors black compar white gender differ also strike woman significantli better prognosi compar men number genet alter occur lung cancer exampl nsclc mutat kra p53 egfr met identifi mani pathway especi receptor tyrosin kina rtk control c cbl cbl casita b lineag lymphoma mammalian gene locat human chromosom 11q23 3 2 involv cell signal protein ubiquitin 3 cbl protein belong ring finger class ubiquitin ligas e3 three homologu c cbl cbl b cbl 3 4 c cbl cbl b gene ubiquit express highest level hematopoiet tissu 5 c cbl consist four region encod function distinct protein domain n termin tyrosin kina bind tkb domain linker region catalyt ring finger domain prolin rich region c termin ubiquitin associ uba domain also overlap leucin zipper lz domain 3 tkb ring finger domain essenti ligand induc ubiquitin rtk 6 7 8 9 ring finger domain requir recruit e2 ubiquitin conjug enzym tkb domain includ four helix bundl 4h calcium bide ef hand modifi sh2 domain bind phosphotyrosin residu 3 10 11 12 addit prolin rich region c cbl associ sh3 domain grb2 indirectli recruit c cbl rtk via grb2 adaptor protein 7 13 14 c cbl also bind egfr act e3 target egfr ubiquitin degrad furthermor cbl desensit egf signal oppos cellular prolifer induc egf 15 egf activ also appear activ tyrosin kina src phosphoryl c cbl turn activ ubiquitin degrad egfr 16 17 18 recent studi show defect endocytosi egfr character delet mutant point mutat l858r wherebi associ c cbl subsequ ubiquitin impair 19 recent first human c cbl mutat report acut myeloid leukemia aml patient 20 mutat r420q inhibit fm like tyrosin kina 3 flt3 intern ubiquitin 20 e3 activ import oncogenesi c cbl dual separ function signal transduct molecul previous shown c cbl import bind crkl bcr abl hematopoiet cell also bind modul function cytoskeleton bind protein like talin paxillin tkb domain import bind number molecul function signal transduct given critic role cbl normal homeostasi cancer hypothes might mutat lung cancer studi report novel c cbl somat mutat s80n h94i q249e w802 caucasian taiwanes african american lung cancer patient respect express mutat nsclc cell line lead increas prolifer cell motil show c cbl mutat occur without met egfr mutat mutual exclus loh c cbl locu addit c cbl loh associ either met egfr mutat thu hypothes c cbl mutat might contribut oncogen potenti met egfr lung cancer go method ethic statement written consent research human subject obtain institut review board univers chicago cover research perform laboratori follow contact inform institut review board univers chicago mcgiffert hall 5751 woodlawn ave 2nd floor chicago il 60637 written inform consent receiv patient whose tissu sampl use studi tissu sampl lung cancer tissu pair adjac normal lung tissu obtain 50 caucasian 29 african american 40 taiwanes nsclc patient recruit univers chicago hospit chicago usa caucasian african american patient taipei veteran gener hospit taiwan taiwanes patient obtain appropri institut review board permiss inform consent patient 119 sampl 77 men 38 woman 4 unknown age diagnosi rang 47 90 year term tumor type 53 adenocarcinoma 32 squamou cell carcinoma 34 larg cell carcinoma 49 stage 14 stage ii 34 stage iii 13 stage iv tabl s1 cell cultur human non small cell lung carcinoma cell a549 h358 maintain dmem rpmi 1640 respect human embryon kidney 293t cell cultur dmem medium supplement 10 fetal bovin serum 100 unit ml penicillin 100 g ml streptomycin invitrogen carlsbad ca cell cultur 37 c humidifi incub contain 5 co2 c cbl gene mutat analysi exon 2 16 c cbl gene individu amplifi polymeras chain reaction pcr primer list tabl s2 pcr condit 1 cycl 95 c 5 minut 35 cycl 94 c 30 second 58 c 30 second 72 c 2 minut one cycl 72 c 10 minut pcr product treat exosap usb corpor cleveland oh sequenc big dye termin chemistri appli biosystem foster citi ca sequenc perform forward code strand confirm c cbl alter perform sequenc revers strand well chromatogram analyz mutat use mutat surveyor v2 61 softgenet state colleg pa plasmid construct site direct mutagenesi wild type c cbl cdna insert subclon paltermax express vector use xhoi sali restrict enzym site promega madison wi use parent plasmid paltermax c cbl tkb domain doubl mutat s80n h94i point mutat q249e c termin point mutat w802 c cbl creat use follow primer 5 gctggcgctaaagaataacccaccttatatcttagac 3 5 ctaccagatacctaccagtatctccgtactatcttgtc 3 doubl mutat s80n h94i 5 ctttacccgactctttgagccctggtcctctttgc 3 q249e 5 cagctcctcctttggctgattgtctctggatggtgatc 3 w802 along complementari primer use quickchang site direct mutagenesi xl kit stratagen la jolla ca accord manufactur instruct construct confirm point mutat standard dna sequenc strand loss heterozygos loh analysi five microsatellit chromosom 11 3 11q within 200 kb downstream c cbl gene 2 control marker 11p select analysi tabl s3 establish microsatellit marker respect primer sequenc select geneloc databas http genecard weizmann ac il geneloc index shtml weizmann institut scienc rehovot israel primer custom design forward primer fluoresc label 5 end fam pet ned vic appli biosystem primer anneal temperatur duplex score evalu nist primer tool http yellow nist gov 8444 dnaanalysi primertoolspag nation institut standard technolog gaithersburg md primer verifi perform pcr control dna isol tk6 cell resolv product agaros gel band visual uv transillumin genom dna extract tumor sampl pair normal lung tissu primer group multiplex combin shown tabl s4 marker d11s929 serv intern control check consist pcr peak capillari electrophoresi multiplex pcr carri volum 10 l contain 1 l genom dna 20 50 ng 0 5 primer 1 0 total primer pair 400 dntp 1x pcr buffer contain mgcl2 0 2 u taq dna polymeras pcr perform abi geneamp 9700 pcr system follow condit 5 min 94 c 30 cycl 30 sec 94 c 1 min 60 c 1 min 72 c 5 min 72 c pcr product separ capillari electrophoresi abi 3130xl dna analyz chromatogram analyz peak scanner 1 0 genemapp 3 7 softwar appli biosystem allel alter area peak produc dna pcr product quantifi allel ratio allel area calcul tumor pair normal dna sampl qloh allel ratio tumor peak divid allel ratio pair normal sampl 0 5 2 0 c cbl least one 11q marker least two separ experi sampl consid allel imbal interpret loh sampl evalu least two separ experi sampl show prospect loh c cbl repeat third time includ new control marker bax locu data shown chromosom 19 verifi integr sampl dna transfect c cbl construct a549 cell line transfect use fugen hd roch nutley nj reagent accord manufactur instruct eight g plasmid dna contain either insert empti vector wild type c cbl s80n h94i c cbl q249e c cbl w802 cbl use transfect 6 well cultur plate cell harvest 48 h transfect analyz express c cbl knockdown c cbl knockdown perform use lentivir transduct use mission lentivir transduct particl sigma aldrich st loui mo per manufactur instruct briefli 1 105 h358 cell well seed 6 well plate infect follow day c cbl lentivir shrna construct gener stabl c cbl knockdown cell line cell select 2 day 1 g ml puromycin c cbl level determin use whole cell lysat immunoblot anti cbl antibodi santa cruz biotechnolog santa cruz ca cell viabil assay cell transfect describ transfect assay forti eight hour transfect viabil cell ass use trypan blue exclus wound heal assay a549 cell seed 6 well plate cultur 48 h 100 confluent medium chang cell transfect describ transfect assay twelv hour transfect straight scratch made across cell layer use 1 ml pipett tip cell gentli wash 1 pb remov cellular debri medium replac photograph taken wound region everi 12 h 48 h western blot analysi forti eight hour transfect cell collect wash twice 1x pb lyse ice cold lysi buffer 0 5m tri hcl ph 7 4 1 5 nacl 2 5 deoxychol acid 10 mm edta 10 np 40 0 5 mm dtt 1 mm phenylmethylsulfonyl fluorid 5 g ml leupeptin 10 g ml aprotinin 5 minut lysat centrifug 13 000 rpm 20 minut 4 c protein content supernat measur total cell lysat 50 g well separ sd page electrophoresi gel transfer onto nitrocellulos membran whatman piscataway nj membran block 5 non fat dri milk phosphat buffer salin contain tween 20 pbst 1x pb 0 1 tween 20 1 h room temperatur incub appropri primari antibodi 4 c overnight membran wash three time pbst probe appropri horseradish peroxidas hrp conjug secondari antibodi 1 h room temperatur membran wash three time pbst band visual use western blot chemiluminesc reagent biorad valencia ca chemidoc gel document system biorad valencia ca antibodi obtain santa cruz biotechnolog use follow dilut c cbl 1 5000 c met 1 5000 egfr 1 5000 ubiquitin 1 1000 ha 1 5000 actin 1 10 000 flow cytometri cell cycl analysi carri flow cytometri approxim 2 106 cell grown medium contain 10 fb cell harvest trypsin edta treatment wash 1x pb three time fix ice cold 70 ethanol 2 h cell wash cold pb stain solut contain 25 g ml propidium iodid 200 g ml rnase 0 1 triton x 100 30 minut dark cell cycl analysi perform use guava pca 96 flow cytomet guava technolog millipor billerica ubiquitin ligas activ 293t cell maintain cultur dmem supplement 10 fb 1 penicillin 100 unit ml streptomycin 100 g ml transfect 0 2 g egfr pcdna3 2 g ha tag c cbl construct indic use calcium phosphat accord manufactur protocol profect promega madison wi twenti four hour post transfect cell starv overnight dmem supplement 0 5 fb treat without egf 100 ng ml 15 min cell collect wash two time ice cold pb contain 0 2 mm sodium orthovanad lyse ice cold lysi buffer 10 mm tri hcl ph 7 5 150 mm nacl 5 mm edta 1 triton x100 10 glycerol 2 mm sodium orthovanad protea inhibitor lysat clear debri centrifug 16 000 g 10 min 4 c egfr immunoprecipit perform 200 g clear lysat use 250 ng rabbit anti egfr protein g plu sepharos overnight 4 c precipit wash 5 time lysi buffer boil laemmli buffer elut immunoblot anti ubiquitin egfr twenti microgram clear lysat immunoblot c cbl construct use anti ha statist analysi mutat rate differ group compar use fisher exact test continu variabl group comparison perform use analysi varianc anova follow sidak adjust multipl comparison experi involv repeat measur time analyz use repeat measur anova greenhous geisser adjust degre freedom analys conduct use stata v10 1 softwar stata corpor colleg station tx go result c cbl gene mutat lung cancer investig role c cbl lung cancer analyz genom dna tumor pair normal sampl drawn multipl ethnic lung tumor sampl repres caucasian n 50 african american n 29 taiwanes n 40 lung cancer patient design 12 pair primer sequenc code region c cbl gene span exon 2 16 tabl s2 identifi 8 uniqu somat mutat c cbl exon among 8 differ patient variat l620f known snp rs2227988 exon 11 also detect importantli eight novel non synonym mutat confirm sequenc strand c cbl genom dna obtain lung tumor sampl tabl 1 moreov none 8 mutat detect correspond normal tissu indic somat mutat four synonym singl nucleotid variat snv also identifi use studi tabl 1 tabl 1 c cbl mutat analysi 119 lung cancer patient tumor tissu three 8 novel non synonym mutat locat tkb tyrosin kina bind domain s80n h94i q249e one ring finger domain v391i one prolin rich region 72515 72517 del atg three c termin region w802 r830k a848t c cbl protein figur 1a figur s1 figur 1b show model chromatogram repres sampl figur 1 figur 1 c cbl mutat loh non small cell lung cancer 11q loh c cbl gene pair lung tumor normal lung tissu sampl taiwanes patient n 37 investig loh eight 21 6 show loh c cbl locu chromosom 11 29 sampl 78 4 reveal normal allel contribut microsatellit marker figur 1c c cbl mutat differ ethnic group c cbl doubl mutant s80n h94i found patient overal mutat rate c cbl lung tumor 6 7 8 119 frequenc c cbl mutat highest larg cell carcinoma 14 7 5 34 patient follow squamou carcinoma 6 3 2 32 patient least observ adenocarcinoma ad 1 8 1 53 patient although rate statist signific p 0 292 mutat rate 6 0 among caucasian 0 20 ad 0 10 sq 3 20 lc 13 8 african american 1 10 ad 1 10 sq 2 9 lc 2 5 0 23 ad 1 12 sq 0 5 lc taiwanes popul addit two taiwanes patient lung cancer one squamou one adenocarcinoma known snp l620f ethnic differ statist signific howev power detect differ low mutat met egfr co associ c cbl alter sinc east asian lung cancer higher frequenc egfr met mutat lung tumor 21 22 also determin mutat egfr met taiwanes cohort sampl compar result observ c cbl alter loh mutat 37 sampl test find overlap c cbl mutat c cbl loh figur 2 three c cbl mutant includ known l620f snp rs2227988 one sampl met mutat n375 egfr mutat l858r among 8 sampl loh c cbl locu 5 addit mutat met n375 2 egfr exon 19 delet twenti six sampl neither c cbl mutat c cbl loh 3 patient c cbl mutat c cbl loh among 26 sampl 9 met mutat 8 n375 1 l211w 13 egfr mutat 7 exon 9 delet 6 l858r 4 met egfr mutat thu rate met egfr mutat among patient loh c cbl locu 7 8 similar seen patient without c cbl mutat loh 22 26 patient p 0 99 4 patient identifi mutat c cbl met egfr repres 10 8 37 patient analyz taiwanes patient cohort convers 89 2 taiwanes lung cancer patient identifi mutat either c cbl met egfr combin three gene figur 2 addit determin p53 kra mutat taiwanes cohort two p53 1 kra mutat detect singl kra mutat overlap one p53 mutat patient also egfr exon 19 delet c cbl mutat p53 mutat sampl c cbl loh concurr met n375 mutat thu taiwanes sampl analyz p53 kra mutat c cbl mutat mutual exclus data shown figur 2 figur 2 c cbl mutat relationship met egfr mutat lung cancer cellular function c cbl alter context lung tumorigenesi e3 activ intact mutant c cbl protein investig whether differ c cbl mutat affect e3 activ egfr chosen model substrat c cbl e3 function c cbl mutant test enhanc ubiquitin activ egfr similar wild type c cbl protein result demonstr catalyt activ c cbl mutant impair egfr substrat figur 3a figur 3 figur 3 ubiquitin viabil express cell cycl analysi variou c cbl mutant b effect lung cancer cell viabil effect repres c cbl mutant three ethnic background lung cancer cell viabil cell line determin s80n h94i doubl mutat q249e w802 identifi lung tumor sampl obtain caucasian taiwanes african american respect describ method c cbl wild type wt three mutant express clone paltermax vector a549 cell cell express rel low basal level endogen c cbl data shown transfect effici compar differ group number cell transfect c cbl wild type construct 70 compar control cell transfect empti vector cell transfect s80n h94i q249e w802 c cbl mutant construct result increas number viabl cell 132 3 120 8 147 9 higher respect rel empti vector control transfect cell significantli differ wild type construct p 0 022 p 0 049 p 0 008 respect figur 3b rel level c cbl protein whole cell lysat prepar sampl obtain parallel experi determin c cbl protein level sampl repres untransfect empti vector transfect cell compar repres c cbl wt three c cbl mutant compar figur 3c c effect cell cycl investig increas cell viabil differ c cbl mutant due increas cellular prolifer cell cycl analysi perform a549 cell transfect c cbl wt three differ mutant s80n h94i q249e w802 empti vector transfect use control forti eight hour transfect cell cycl analysi perform describ materi method signific chang subg1 g1 phase cell cycl among differ mutant compar wt construct p 0 64 p 0 40 p 0 28 respect g2 phase cell cycl show increas cell number three mutant s80n h94i q249e w802 compar wt differ statist signific p 0 25 figur 3d effect cell motil investig effect express three c cbl mutant cell migrat carri wound heal assay describ materi method close scratch wound monitor 0 12 24 36 48 h figur 4a sampl repres cell transfect mutant wound gap much smaller seen sampl repres cell transfect c cbl wt p 0 001 also determin rate wound closur five group 48 h wild type c cbl transfect show 61 1 open wound s80n h94i q249e w802 mutant show 18 7 23 9 34 3 open wound respect p 0 001 figur 4b figur 4 figur 4 c cbl mutat affect wound heal a549 cell e c cbl knockdown increas cell viabil hypothes loh seen sampl could lead decreas express c cbl thu test effect c cbl knockdown lung cancer cell compar a549 h358 lung cancer cell express rel high level endogen c cbl data shown c cbl express knock use lentivir construct express c cbl specif shrna compar result transduc scrambl shrna result shown figur 5 identifi sever clone reveal vari degre c cbl knockdown show differ set c cbl lentivir shrna knockdown effici figur 5a clone test clone 27 chosen experi equal amount cell seed 6 well plate cell prolifer measur variou time result depict figur 5b expect number cell increas time depend fashion 100 190 rel scrambl shrna control span 48 h p 0 0002 figur 5b cell cycl phase h358 cell knock c cbl shrna look compar scrambl shrna discern differ two construct differ phase cell cycl data shown figur 5 figur 5 knockdown c cbl use shrna increas cell prolifer go discus result demonstr c cbl somat mutat loh lung cancer significantli contribut enhanc cell viabil motil also high preval loh respect c cbl lung tumor harbor met egfr mutat present studi demonstr occurr c cbl mutat lung cancer patient especi differ ancestr variat mutat c cbl recent report juvenil myelomonocyt leukemia myeloid malign aml studi mutat r420q locat junction ring finger linker region inhibit fm like tyrosin kina 3 flt3 intern ubiquitin 20 thu contribut gain function rtk addit mutat h398i c384r l380p map ring finger domain linker region c cbl requir e3 activ 23 24 25 26 27 addit homozyg mutat ring finger domain c cbl gene describ result acquir uniparent disomi upd 26 import note result indic loh 11q23 locu mutual exclus missens mutat c cbl somat mutat heterozyg mutat aml led abrog e3 activ lead prolong rtk activ addit mutant locat linker region surround ring finger domain exhibit enhanc akt signal respons cytokin stimul 26 addit shown nh3t3 cell neither mutat ring finger linker region caus transform howev certain mutat perturb ubiquitin other affect receptor recycl prolong kina activ 28 report c cbl mutat map ring finger domain also tkb domain prolin rich domain c termin region none map linker region report aml studi describ 23 24 25 26 29 addit 8 mutant detect found differ ethnic background exampl s80n h94i q249e w802 detect caucasian taiwanes african american respect result point differ lung cancer cancer also genet polymorph among differ race cancer interestingli larg dispar african american ethnic popul lung cancer 30 previous shown low frequenc egfr met mutat african american compar taiwanes caucasian 31 studi number african american sampl analyz rel fewer found 3 mutat uniqu ethnic would behoov u studi genet alter occur determin target therapeut african american result provid evid import c cbl tumorigenesi potenti signal predict base aml data would v391i ring finger domain mutat would affect e3 activ also import determin bind partner c cbl tkb domain prolin rich domain mutat previous shown tkb domain bind growth factor receptor import determin cross bind mutant met egfr would also import futur look fluoresc situ hybrid copi number chang c cbl lung cancer c cbl play import role regul rtk mediat signal k63 poli ubiquitin subsequ downregul rtk follow lysosom degred 3 mono ubiquitin ubiquitin k63 link chain substrat c cbl may lead enhanc biolog biochem function review hermann et al 2007 32 mutat analyz studi point fact e3 activ c cbl egfr intact egfr level variou mutant remain figur s2 multipl kina rtk non rtk could act upon c cbl includ erb pdgfr fm met c kit vegfr flt 1 ron fgfr ir well syk fyn lck fgr lyn c abl 3 lung cancer relev substrat c cbl term degrad signal transduct yet identifi observ c cbl somat mutat especi s80n h94i q249e w802 show increas cell viabil cell motil agreement physiolog role cbl regul apoptosi differenti identifi drosophila signific 33 previous shown activ c cbl mutat downregul egfr signal decreas cellular prolifer migrat breast cancer cell line 34 although role c cbl neg regul rtk well substanti therebi suggest natur tumor suppressor studi cancer cell reveal tumor suppressor tumor promot activ depend type c cbl mutat number allel c cbl locu 24 agreement three c cbl mutant describ appear tumor growth metastasi promot properti although mutant outsid ring finger linker region c cbl downstream effect signific caus increas prolifer migrat substrat affect mutat known yet rais possibl cellular function c cbl independ ubiquitin ligas activ area current investig oncogen natur rtk addict cancer growth signal given cluster c cbl egfr met mutat possibl transform effect c cbl mutat like combinatori effect three also show loh c cbl found signific number sampl harbor met egfr mutat fact 7 lung tumor sampl like c cbl mutat addit 22 like harbor c cbl relat loh make c cbl highli mutat molecul lung cancer sinc loh alon enough caus transform event 35 36 37 associ mutat met egfr locu yet anoth rtk discus may play role carcinogenesi predict loh c cbl result haploinsuffici downplay rtk ubiquitin lead hyperact rtk howev whether suffici caus tumorigenesi remain determin consist hypothesi fact c cbl mouse increas kina activ lymphocyt suffici tumor format 35 36 37 c cbl loh could also lead increas express c cbl allel compens loss allel altern could form synergi work reduc c cbl level mutat receptor exacerb phenotyp alon previou studi lab other shown east asian lung cancer rel high frequenc gain function mutat rtk egfr met 31 cohort japanes patient activ met mutat identifi splice region delet juxtamembran domain involv e3 activ c cbl 38 studi also found activ met mutual exclus egfr kra her2 gene mutat 38 fail detect mutat signific number lung tumor sampl obtain african american n 29 caucasian n 50 patient one met mutat identifi group wherea 1 3 egfr mutat identifi african american caucasian cohort respect egfr mutat earlier identifi one key mutat affect lung adenocarcinoma patient comprehens studi 188 patient 39 studi encompass differ histolog nsclc howev publish seri find mutat c cbl met unlik studi encompass differ subtyp nsclc import note recent shown met mutat lung cancer major germlin 31 report earlier c cbl mutat small cohort taiwanes lung cancer sampl 40 effort understand ethnic differ lung oncogenom also look pax transcript factor pax5 pax8 highli express lung cancer howev preferenti express mutat gene lung tumor sampl african american studi show rel high frequenc c cbl mutat lung cancer especi larg cell type among caucasian particularli among african american therefor propos c cbl efficaci target lung cancer african american need substanti import prognosi african american lung cancer especi men much poorer compar caucasian counterpart 41 conclus result present studi demonstr c cbl frequent mutat even lost lung cancer result support role c cbl mutant independ ubiquitin activ given rel high mutat rate c cbl well rtk met egfr like combin effect could synergist promot tumorigenesi\nThe type of line is : <class 'str'>\n",
          "name": "stdout"
        }
      ]
    },
    {
      "metadata": {
        "trusted": true
      },
      "cell_type": "code",
      "source": "# Copy the text into a temporary variable sample_text\nsample_text = text",
      "execution_count": 101,
      "outputs": []
    },
    {
      "metadata": {
        "trusted": true
      },
      "cell_type": "code",
      "source": "def nlp_preprocess(ind, line):\n    \n    if type(line) is str:\n        \n        string = \" \"\n        \n        # Subsitute the words other than alphanumeric with space\n        line = re.sub('[^a-zA-Z0-9\\n]',\"  \",line)\n        \n        # Replace multiple spaces with just a single space\n        line = re.sub('\\s+', \" \", line)\n        \n        # Conver the line to lower case\n        line = line.lower()\n         \n        words = line.split()\n        \n        # Remove the stop words from the string\n        words = [word for word in words if word not in stop_words]\n        \n        # Applying the stemming on each word\n        words = [porter.stem(word) for word in words]\n        \n        # Applying the lemmatization on each word\n        words = [lemmer.lemmatize(word) for word in words]\n        \n        string = \" \".join(words)\n        sample_text[ind] = string",
      "execution_count": 102,
      "outputs": []
    },
    {
      "metadata": {
        "trusted": true
      },
      "cell_type": "code",
      "source": "start_time = time.clock()\nfor ind, line in enumerate(text):\n    if type(line) == str:\n        nlp_preprocess(ind, line)\n    else:\n        text[ind] = \" \"\n        print(\"there is no text description for id:\",ind)\nprint('Time took for preprocessing the text :',time.clock() - start_time, \"seconds\")",
      "execution_count": 103,
      "outputs": [
        {
          "output_type": "stream",
          "text": "Time took for preprocessing the text : 938.225117 seconds\n",
          "name": "stdout"
        }
      ]
    },
    {
      "metadata": {
        "trusted": true
      },
      "cell_type": "code",
      "source": "sample_text.head()",
      "execution_count": 104,
      "outputs": [
        {
          "output_type": "execute_result",
          "execution_count": 104,
          "data": {
            "text/plain": "0    abstract background non small cell lung cancer...\n1    abstract background non small cell lung cancer...\n2    recent evid demonstr acquir unipar disomi aupd...\n3    oncogen mutat monom casita b lineag lymphoma c...\n4    oncogen mutat monom casita b lineag lymphoma c...\nName: Text, dtype: object"
          },
          "metadata": {}
        }
      ]
    },
    {
      "metadata": {
        "trusted": true
      },
      "cell_type": "code",
      "source": "print(\"The length of the sample text is : \", sample_text.shape)\nprint(\"The length of the text is : \", text.shape)",
      "execution_count": 105,
      "outputs": [
        {
          "output_type": "stream",
          "text": "The length of the sample text is :  (500,)\nThe length of the text is :  (500,)\n",
          "name": "stdout"
        }
      ]
    },
    {
      "metadata": {},
      "cell_type": "markdown",
      "source": "#### 3.3 Applying the Count Vectorizer"
    },
    {
      "metadata": {
        "trusted": true
      },
      "cell_type": "code",
      "source": "from sklearn.feature_extraction.text import CountVectorizer",
      "execution_count": 106,
      "outputs": []
    },
    {
      "metadata": {
        "trusted": true
      },
      "cell_type": "code",
      "source": "vectorizer = CountVectorizer(analyzer='word', max_features=1000, min_df=2, max_df=0.85, stop_words = stop_words)\nvectorizer",
      "execution_count": 107,
      "outputs": [
        {
          "output_type": "execute_result",
          "execution_count": 107,
          "data": {
            "text/plain": "CountVectorizer(analyzer='word', binary=False, decode_error='strict',\n        dtype=<class 'numpy.int64'>, encoding='utf-8', input='content',\n        lowercase=True, max_df=0.85, max_features=1000, min_df=2,\n        ngram_range=(1, 1), preprocessor=None,\n        stop_words=['i', 'me', 'my', 'myself', 'we', 'our', 'ours', 'ourselves', 'you', \"you're\", \"you've\", \"you'll\", \"you'd\", 'your', 'yours', 'yourself', 'yourselves', 'he', 'him', 'his', 'himself', 'she', \"she's\", 'her', 'hers', 'herself', 'it', \"it's\", 'its', 'itself', 'they', 'them', 'their', 'theirs',... 'shouldn', \"shouldn't\", 'wasn', \"wasn't\", 'weren', \"weren't\", 'won', \"won't\", 'wouldn', \"wouldn't\"],\n        strip_accents=None, token_pattern='(?u)\\\\b\\\\w\\\\w+\\\\b',\n        tokenizer=None, vocabulary=None)"
          },
          "metadata": {}
        }
      ]
    },
    {
      "metadata": {
        "trusted": true
      },
      "cell_type": "code",
      "source": "words = vectorizer.fit_transform(text)\nbow_tdf = pd.DataFrame(words.toarray(), columns = vectorizer.get_feature_names())\nbow_tdf.head()",
      "execution_count": null,
      "outputs": []
    },
    {
      "metadata": {},
      "cell_type": "markdown",
      "source": "#### 3.4 Considering a new token pattern"
    },
    {
      "metadata": {
        "trusted": true
      },
      "cell_type": "code",
      "source": "vectorizer2 = CountVectorizer(max_df = 0.85,min_df=3, stop_words=stop_words,token_pattern='[a-zA-Z\\-][a-zA-Z\\-]{2,}', max_features= 10000)\nvectorizer2",
      "execution_count": null,
      "outputs": []
    },
    {
      "metadata": {
        "trusted": true
      },
      "cell_type": "code",
      "source": "words = vectorizer2.fit_transform(text)\nbow2 = pd.DataFrame(words.toarray(), columns = vectorizer2.get_feature_names())\nbow2.head()",
      "execution_count": 35,
      "outputs": [
        {
          "output_type": "execute_result",
          "execution_count": 35,
          "data": {
            "text/html": "<div>\n<style scoped>\n    .dataframe tbody tr th:only-of-type {\n        vertical-align: middle;\n    }\n\n    .dataframe tbody tr th {\n        vertical-align: top;\n    }\n\n    .dataframe thead th {\n        text-align: right;\n    }\n</style>\n<table border=\"1\" class=\"dataframe\">\n  <thead>\n    <tr style=\"text-align: right;\">\n      <th></th>\n      <th>aaa</th>\n      <th>aaaaggtgggcctgaggttca</th>\n      <th>aaataatcagtgtgattcgtggag</th>\n      <th>aac</th>\n      <th>aacccccac</th>\n      <th>aacr</th>\n      <th>aacrjourn</th>\n      <th>aactttgggcgactatctgc</th>\n      <th>aad</th>\n      <th>aag</th>\n      <th>...</th>\n      <th>zong</th>\n      <th>zonula</th>\n      <th>zoom</th>\n      <th>zrsr</th>\n      <th>zupnick</th>\n      <th>zurich</th>\n      <th>zygoc</th>\n      <th>zygos</th>\n      <th>zygot</th>\n      <th>zyme</th>\n    </tr>\n  </thead>\n  <tbody>\n    <tr>\n      <th>0</th>\n      <td>0</td>\n      <td>0</td>\n      <td>0</td>\n      <td>0</td>\n      <td>0</td>\n      <td>0</td>\n      <td>0</td>\n      <td>0</td>\n      <td>0</td>\n      <td>0</td>\n      <td>...</td>\n      <td>0</td>\n      <td>0</td>\n      <td>0</td>\n      <td>0</td>\n      <td>0</td>\n      <td>0</td>\n      <td>0</td>\n      <td>0</td>\n      <td>0</td>\n      <td>0</td>\n    </tr>\n    <tr>\n      <th>1</th>\n      <td>0</td>\n      <td>0</td>\n      <td>0</td>\n      <td>0</td>\n      <td>0</td>\n      <td>0</td>\n      <td>0</td>\n      <td>0</td>\n      <td>0</td>\n      <td>0</td>\n      <td>...</td>\n      <td>0</td>\n      <td>0</td>\n      <td>0</td>\n      <td>0</td>\n      <td>0</td>\n      <td>0</td>\n      <td>0</td>\n      <td>0</td>\n      <td>0</td>\n      <td>0</td>\n    </tr>\n    <tr>\n      <th>2</th>\n      <td>0</td>\n      <td>0</td>\n      <td>0</td>\n      <td>0</td>\n      <td>0</td>\n      <td>0</td>\n      <td>0</td>\n      <td>0</td>\n      <td>0</td>\n      <td>0</td>\n      <td>...</td>\n      <td>0</td>\n      <td>0</td>\n      <td>0</td>\n      <td>0</td>\n      <td>0</td>\n      <td>0</td>\n      <td>0</td>\n      <td>0</td>\n      <td>0</td>\n      <td>0</td>\n    </tr>\n    <tr>\n      <th>3</th>\n      <td>0</td>\n      <td>0</td>\n      <td>0</td>\n      <td>0</td>\n      <td>0</td>\n      <td>0</td>\n      <td>0</td>\n      <td>0</td>\n      <td>0</td>\n      <td>0</td>\n      <td>...</td>\n      <td>0</td>\n      <td>0</td>\n      <td>0</td>\n      <td>0</td>\n      <td>0</td>\n      <td>0</td>\n      <td>1</td>\n      <td>2</td>\n      <td>0</td>\n      <td>0</td>\n    </tr>\n    <tr>\n      <th>4</th>\n      <td>0</td>\n      <td>0</td>\n      <td>0</td>\n      <td>0</td>\n      <td>0</td>\n      <td>0</td>\n      <td>0</td>\n      <td>0</td>\n      <td>0</td>\n      <td>0</td>\n      <td>...</td>\n      <td>0</td>\n      <td>0</td>\n      <td>0</td>\n      <td>0</td>\n      <td>0</td>\n      <td>0</td>\n      <td>1</td>\n      <td>2</td>\n      <td>0</td>\n      <td>0</td>\n    </tr>\n  </tbody>\n</table>\n<p>5 rows × 10000 columns</p>\n</div>",
            "text/plain": "   aaa  aaaaggtgggcctgaggttca  aaataatcagtgtgattcgtggag  aac  aacccccac  aacr  \\\n0    0                      0                         0    0          0     0   \n1    0                      0                         0    0          0     0   \n2    0                      0                         0    0          0     0   \n3    0                      0                         0    0          0     0   \n4    0                      0                         0    0          0     0   \n\n   aacrjourn  aactttgggcgactatctgc  aad  aag  ...   zong  zonula  zoom  zrsr  \\\n0          0                     0    0    0  ...      0       0     0     0   \n1          0                     0    0    0  ...      0       0     0     0   \n2          0                     0    0    0  ...      0       0     0     0   \n3          0                     0    0    0  ...      0       0     0     0   \n4          0                     0    0    0  ...      0       0     0     0   \n\n   zupnick  zurich  zygoc  zygos  zygot  zyme  \n0        0       0      0      0      0     0  \n1        0       0      0      0      0     0  \n2        0       0      0      0      0     0  \n3        0       0      1      2      0     0  \n4        0       0      1      2      0     0  \n\n[5 rows x 10000 columns]"
          },
          "metadata": {}
        }
      ]
    },
    {
      "metadata": {},
      "cell_type": "markdown",
      "source": "#### 3.5 Using TfIdf Vectorizer"
    },
    {
      "metadata": {
        "trusted": true
      },
      "cell_type": "code",
      "source": "tVectorizer = TfidfVectorizer(token_pattern='[a-zA-Z\\-][a-zA-Z\\-]{2,}',stop_words=stop_words,max_df=0.85,min_df=3, max_features= 10000)\ntVectorizer",
      "execution_count": 37,
      "outputs": [
        {
          "output_type": "execute_result",
          "execution_count": 37,
          "data": {
            "text/plain": "TfidfVectorizer(analyzer='word', binary=False, decode_error='strict',\n        dtype=<class 'numpy.float64'>, encoding='utf-8', input='content',\n        lowercase=True, max_df=0.85, max_features=10000, min_df=3,\n        ngram_range=(1, 1), norm='l2', preprocessor=None, smooth_idf=True,\n        stop_words=['i', 'me', 'my', 'myself', 'we', 'our', 'ours', 'ourselves', 'you', \"you're\", \"you've\", \"you'll\", \"you'd\", 'your', 'yours', 'yourself', 'yourselves', 'he', 'him', 'his', 'himself', 'she', \"she's\", 'her', 'hers', 'herself', 'it', \"it's\", 'its', 'itself', 'they', 'them', 'their', 'theirs',... 'shouldn', \"shouldn't\", 'wasn', \"wasn't\", 'weren', \"weren't\", 'won', \"won't\", 'wouldn', \"wouldn't\"],\n        strip_accents=None, sublinear_tf=False,\n        token_pattern='[a-zA-Z\\\\-][a-zA-Z\\\\-]{2,}', tokenizer=None,\n        use_idf=True, vocabulary=None)"
          },
          "metadata": {}
        }
      ]
    },
    {
      "metadata": {
        "trusted": true
      },
      "cell_type": "code",
      "source": "t_words = tVectorizer.fit_transform(text)\ntbow = pd.DataFrame(t_words.toarray(), columns = tVectorizer.get_feature_names())\ntbow.head()",
      "execution_count": 38,
      "outputs": [
        {
          "output_type": "execute_result",
          "execution_count": 38,
          "data": {
            "text/html": "<div>\n<style scoped>\n    .dataframe tbody tr th:only-of-type {\n        vertical-align: middle;\n    }\n\n    .dataframe tbody tr th {\n        vertical-align: top;\n    }\n\n    .dataframe thead th {\n        text-align: right;\n    }\n</style>\n<table border=\"1\" class=\"dataframe\">\n  <thead>\n    <tr style=\"text-align: right;\">\n      <th></th>\n      <th>aaa</th>\n      <th>aaaaggtgggcctgaggttca</th>\n      <th>aaataatcagtgtgattcgtggag</th>\n      <th>aac</th>\n      <th>aacccccac</th>\n      <th>aacr</th>\n      <th>aacrjourn</th>\n      <th>aactttgggcgactatctgc</th>\n      <th>aad</th>\n      <th>aag</th>\n      <th>...</th>\n      <th>zong</th>\n      <th>zonula</th>\n      <th>zoom</th>\n      <th>zrsr</th>\n      <th>zupnick</th>\n      <th>zurich</th>\n      <th>zygoc</th>\n      <th>zygos</th>\n      <th>zygot</th>\n      <th>zyme</th>\n    </tr>\n  </thead>\n  <tbody>\n    <tr>\n      <th>0</th>\n      <td>0.0</td>\n      <td>0.0</td>\n      <td>0.0</td>\n      <td>0.0</td>\n      <td>0.0</td>\n      <td>0.0</td>\n      <td>0.0</td>\n      <td>0.0</td>\n      <td>0.0</td>\n      <td>0.0</td>\n      <td>...</td>\n      <td>0.0</td>\n      <td>0.0</td>\n      <td>0.0</td>\n      <td>0.0</td>\n      <td>0.0</td>\n      <td>0.0</td>\n      <td>0.000000</td>\n      <td>0.000000</td>\n      <td>0.0</td>\n      <td>0.0</td>\n    </tr>\n    <tr>\n      <th>1</th>\n      <td>0.0</td>\n      <td>0.0</td>\n      <td>0.0</td>\n      <td>0.0</td>\n      <td>0.0</td>\n      <td>0.0</td>\n      <td>0.0</td>\n      <td>0.0</td>\n      <td>0.0</td>\n      <td>0.0</td>\n      <td>...</td>\n      <td>0.0</td>\n      <td>0.0</td>\n      <td>0.0</td>\n      <td>0.0</td>\n      <td>0.0</td>\n      <td>0.0</td>\n      <td>0.000000</td>\n      <td>0.000000</td>\n      <td>0.0</td>\n      <td>0.0</td>\n    </tr>\n    <tr>\n      <th>2</th>\n      <td>0.0</td>\n      <td>0.0</td>\n      <td>0.0</td>\n      <td>0.0</td>\n      <td>0.0</td>\n      <td>0.0</td>\n      <td>0.0</td>\n      <td>0.0</td>\n      <td>0.0</td>\n      <td>0.0</td>\n      <td>...</td>\n      <td>0.0</td>\n      <td>0.0</td>\n      <td>0.0</td>\n      <td>0.0</td>\n      <td>0.0</td>\n      <td>0.0</td>\n      <td>0.000000</td>\n      <td>0.000000</td>\n      <td>0.0</td>\n      <td>0.0</td>\n    </tr>\n    <tr>\n      <th>3</th>\n      <td>0.0</td>\n      <td>0.0</td>\n      <td>0.0</td>\n      <td>0.0</td>\n      <td>0.0</td>\n      <td>0.0</td>\n      <td>0.0</td>\n      <td>0.0</td>\n      <td>0.0</td>\n      <td>0.0</td>\n      <td>...</td>\n      <td>0.0</td>\n      <td>0.0</td>\n      <td>0.0</td>\n      <td>0.0</td>\n      <td>0.0</td>\n      <td>0.0</td>\n      <td>0.006937</td>\n      <td>0.013652</td>\n      <td>0.0</td>\n      <td>0.0</td>\n    </tr>\n    <tr>\n      <th>4</th>\n      <td>0.0</td>\n      <td>0.0</td>\n      <td>0.0</td>\n      <td>0.0</td>\n      <td>0.0</td>\n      <td>0.0</td>\n      <td>0.0</td>\n      <td>0.0</td>\n      <td>0.0</td>\n      <td>0.0</td>\n      <td>...</td>\n      <td>0.0</td>\n      <td>0.0</td>\n      <td>0.0</td>\n      <td>0.0</td>\n      <td>0.0</td>\n      <td>0.0</td>\n      <td>0.006937</td>\n      <td>0.013652</td>\n      <td>0.0</td>\n      <td>0.0</td>\n    </tr>\n  </tbody>\n</table>\n<p>5 rows × 10000 columns</p>\n</div>",
            "text/plain": "   aaa  aaaaggtgggcctgaggttca  aaataatcagtgtgattcgtggag  aac  aacccccac  aacr  \\\n0  0.0                    0.0                       0.0  0.0        0.0   0.0   \n1  0.0                    0.0                       0.0  0.0        0.0   0.0   \n2  0.0                    0.0                       0.0  0.0        0.0   0.0   \n3  0.0                    0.0                       0.0  0.0        0.0   0.0   \n4  0.0                    0.0                       0.0  0.0        0.0   0.0   \n\n   aacrjourn  aactttgggcgactatctgc  aad  aag  ...   zong  zonula  zoom  zrsr  \\\n0        0.0                   0.0  0.0  0.0  ...    0.0     0.0   0.0   0.0   \n1        0.0                   0.0  0.0  0.0  ...    0.0     0.0   0.0   0.0   \n2        0.0                   0.0  0.0  0.0  ...    0.0     0.0   0.0   0.0   \n3        0.0                   0.0  0.0  0.0  ...    0.0     0.0   0.0   0.0   \n4        0.0                   0.0  0.0  0.0  ...    0.0     0.0   0.0   0.0   \n\n   zupnick  zurich     zygoc     zygos  zygot  zyme  \n0      0.0     0.0  0.000000  0.000000    0.0   0.0  \n1      0.0     0.0  0.000000  0.000000    0.0   0.0  \n2      0.0     0.0  0.000000  0.000000    0.0   0.0  \n3      0.0     0.0  0.006937  0.013652    0.0   0.0  \n4      0.0     0.0  0.006937  0.013652    0.0   0.0  \n\n[5 rows x 10000 columns]"
          },
          "metadata": {}
        }
      ]
    },
    {
      "metadata": {},
      "cell_type": "markdown",
      "source": "### 4. Working on the y part"
    },
    {
      "metadata": {
        "trusted": true
      },
      "cell_type": "code",
      "source": "y = data[\"Class\"]\nprint(\"The shape of y is \" , y.shape)\nprint(\"The unique values of y are : \", y.unique())\nprint(\"The head of the y is : \\n\", y.head())",
      "execution_count": 40,
      "outputs": [
        {
          "output_type": "stream",
          "text": "The shape of y is  (500,)\nThe unique values of y are :  [1 2 3 4 5 6 7 8 9]\nThe head of the y is : \n 0    1\n1    2\n2    2\n3    3\n4    4\nName: Class, dtype: int64\n",
          "name": "stdout"
        }
      ]
    },
    {
      "metadata": {},
      "cell_type": "markdown",
      "source": "### 5. Splitting the data into training and testing"
    },
    {
      "metadata": {
        "trusted": true
      },
      "cell_type": "code",
      "source": "x_train, x_test, y_train, y_test = train_test_split(bow2, y, test_size = 0.4, random_state = 42)",
      "execution_count": 41,
      "outputs": []
    },
    {
      "metadata": {
        "trusted": true
      },
      "cell_type": "code",
      "source": "",
      "execution_count": null,
      "outputs": []
    },
    {
      "metadata": {},
      "cell_type": "markdown",
      "source": "### 6. Applying the KNN Model"
    },
    {
      "metadata": {
        "trusted": true
      },
      "cell_type": "code",
      "source": "from sklearn.neighbors import KNeighborsClassifier",
      "execution_count": 45,
      "outputs": []
    },
    {
      "metadata": {
        "trusted": true
      },
      "cell_type": "code",
      "source": "# Initializing the KNN with 10 neighbors to consider\nknn = KNeighborsClassifier(n_neighbors= 10)\nknn",
      "execution_count": 48,
      "outputs": [
        {
          "output_type": "execute_result",
          "execution_count": 48,
          "data": {
            "text/plain": "KNeighborsClassifier(algorithm='auto', leaf_size=30, metric='minkowski',\n           metric_params=None, n_jobs=None, n_neighbors=10, p=2,\n           weights='uniform')"
          },
          "metadata": {}
        }
      ]
    },
    {
      "metadata": {
        "trusted": true
      },
      "cell_type": "code",
      "source": "# Fitting the knn model on training data\nknn_fit = knn.fit(x_train,y_train)",
      "execution_count": 49,
      "outputs": []
    },
    {
      "metadata": {
        "trusted": true
      },
      "cell_type": "code",
      "source": "# Predicting the y using the x-test\ny_pred = knn.predict(x_test)",
      "execution_count": 50,
      "outputs": []
    },
    {
      "metadata": {
        "trusted": true
      },
      "cell_type": "code",
      "source": "# Calculating the accuracy score\nfrom sklearn import metrics\nprint(metrics.accuracy_score(y_test, y_pred))",
      "execution_count": 51,
      "outputs": [
        {
          "output_type": "stream",
          "text": "0.44\n",
          "name": "stdout"
        }
      ]
    },
    {
      "metadata": {
        "trusted": true
      },
      "cell_type": "code",
      "source": "comp_df = pd.DataFrame()\ncomp_df['Class_actual'] = y_test\ncomp_df['Class_predicted'] = y_pred\n\ncomp_df.head(10)",
      "execution_count": 52,
      "outputs": [
        {
          "output_type": "execute_result",
          "execution_count": 52,
          "data": {
            "text/html": "<div>\n<style scoped>\n    .dataframe tbody tr th:only-of-type {\n        vertical-align: middle;\n    }\n\n    .dataframe tbody tr th {\n        vertical-align: top;\n    }\n\n    .dataframe thead th {\n        text-align: right;\n    }\n</style>\n<table border=\"1\" class=\"dataframe\">\n  <thead>\n    <tr style=\"text-align: right;\">\n      <th></th>\n      <th>Class_actual</th>\n      <th>Class_predicted</th>\n    </tr>\n  </thead>\n  <tbody>\n    <tr>\n      <th>361</th>\n      <td>2</td>\n      <td>1</td>\n    </tr>\n    <tr>\n      <th>73</th>\n      <td>4</td>\n      <td>4</td>\n    </tr>\n    <tr>\n      <th>374</th>\n      <td>1</td>\n      <td>1</td>\n    </tr>\n    <tr>\n      <th>155</th>\n      <td>2</td>\n      <td>7</td>\n    </tr>\n    <tr>\n      <th>104</th>\n      <td>4</td>\n      <td>1</td>\n    </tr>\n    <tr>\n      <th>394</th>\n      <td>4</td>\n      <td>1</td>\n    </tr>\n    <tr>\n      <th>377</th>\n      <td>4</td>\n      <td>1</td>\n    </tr>\n    <tr>\n      <th>124</th>\n      <td>9</td>\n      <td>1</td>\n    </tr>\n    <tr>\n      <th>68</th>\n      <td>7</td>\n      <td>1</td>\n    </tr>\n    <tr>\n      <th>450</th>\n      <td>4</td>\n      <td>1</td>\n    </tr>\n  </tbody>\n</table>\n</div>",
            "text/plain": "     Class_actual  Class_predicted\n361             2                1\n73              4                4\n374             1                1\n155             2                7\n104             4                1\n394             4                1\n377             4                1\n124             9                1\n68              7                1\n450             4                1"
          },
          "metadata": {}
        }
      ]
    },
    {
      "metadata": {},
      "cell_type": "markdown",
      "source": "### 6.1 Fine Tuning the KNN Model"
    },
    {
      "metadata": {
        "trusted": true
      },
      "cell_type": "code",
      "source": "knn_range = list(range(1,26))\nscores = []",
      "execution_count": 54,
      "outputs": []
    },
    {
      "metadata": {
        "trusted": true
      },
      "cell_type": "code",
      "source": "for k in knn_range:\n    knn = KNeighborsClassifier(n_neighbors = k)\n    knn.fit(x_train, y_train)\n    y_pred = knn.predict(x_test)\n    scores.append(format(metrics.accuracy_score(y_test, y_pred), '.2f'))\nprint(scores)",
      "execution_count": 55,
      "outputs": [
        {
          "output_type": "stream",
          "text": "['0.43', '0.43', '0.43', '0.43', '0.43', '0.44', '0.44', '0.43', '0.42', '0.44', '0.43', '0.43', '0.43', '0.43', '0.41', '0.40', '0.43', '0.42', '0.44', '0.41', '0.40', '0.40', '0.39', '0.40', '0.39']\n",
          "name": "stdout"
        }
      ]
    },
    {
      "metadata": {},
      "cell_type": "markdown",
      "source": "#### 6.2 Plotting the accuracy score for different k values"
    },
    {
      "metadata": {
        "trusted": true
      },
      "cell_type": "code",
      "source": "plt.plot(knn_range, scores)\nplt.xlabel('K values for knn')\nplt.ylabel('testing accuracy')",
      "execution_count": 57,
      "outputs": [
        {
          "output_type": "execute_result",
          "execution_count": 57,
          "data": {
            "text/plain": "Text(0, 0.5, 'testing accuracy')"
          },
          "metadata": {}
        },
        {
          "output_type": "display_data",
          "data": {
            "image/png": "[encoded data removed]",
            "text/plain": "<Figure size 432x288 with 1 Axes>"
          },
          "metadata": {
            "needs_background": "light"
          }
        }
      ]
    },
    {
      "metadata": {},
      "cell_type": "markdown",
      "source": "### 6.3 Using GridSearchCV for KNN"
    },
    {
      "metadata": {
        "trusted": true
      },
      "cell_type": "code",
      "source": "from sklearn.model_selection import GridSearchCV\nknn_model = KNeighborsClassifier()",
      "execution_count": 58,
      "outputs": []
    },
    {
      "metadata": {
        "trusted": true
      },
      "cell_type": "code",
      "source": "param_grid = { \"n_neighbors\"      : [2,3,4,5,6,7,8,9,10,11,12,13,14,15,16,17,18,19,20]             \n                }",
      "execution_count": 60,
      "outputs": []
    },
    {
      "metadata": {
        "trusted": true
      },
      "cell_type": "code",
      "source": "optimized_knn = GridSearchCV(knn_model, param_grid, scoring='accuracy', cv=5 )\noptimized_knn.fit(x_train, y_train)",
      "execution_count": 61,
      "outputs": [
        {
          "output_type": "execute_result",
          "execution_count": 61,
          "data": {
            "text/plain": "GridSearchCV(cv=5, error_score='raise-deprecating',\n       estimator=KNeighborsClassifier(algorithm='auto', leaf_size=30, metric='minkowski',\n           metric_params=None, n_jobs=None, n_neighbors=5, p=2,\n           weights='uniform'),\n       fit_params=None, iid='warn', n_jobs=None,\n       param_grid={'n_neighbors': [2, 3, 4, 5, 6, 7, 8, 9, 10, 11, 12, 13, 14, 15, 16, 17, 18, 19, 20]},\n       pre_dispatch='2*n_jobs', refit=True, return_train_score='warn',\n       scoring='accuracy', verbose=0)"
          },
          "metadata": {}
        }
      ]
    },
    {
      "metadata": {
        "trusted": true
      },
      "cell_type": "code",
      "source": "print(\"The best Score of the KNN Model is \", optimized_knn.best_score_)\nprint(\"The best Params of the KNN Model is \", optimized_knn.best_params_)\nprint(\"The best Estimator of the KNN Model is \", optimized_knn.best_estimator_)",
      "execution_count": 62,
      "outputs": [
        {
          "output_type": "stream",
          "text": "The best Score of the KNN Model is  0.5066666666666667\nThe best Params of the KNN Model is  {'n_neighbors': 11}\nThe best Estimator of the KNN Model is  KNeighborsClassifier(algorithm='auto', leaf_size=30, metric='minkowski',\n           metric_params=None, n_jobs=None, n_neighbors=11, p=2,\n           weights='uniform')\n",
          "name": "stdout"
        }
      ]
    },
    {
      "metadata": {
        "trusted": true
      },
      "cell_type": "code",
      "source": "final_knn = optimized_knn.best_estimator_\ny_pred = final_knn.predict(x_test)\nprint(metrics.accuracy_score(y_pred, y_test)) ",
      "execution_count": 64,
      "outputs": [
        {
          "output_type": "stream",
          "text": "0.435\n",
          "name": "stdout"
        }
      ]
    },
    {
      "metadata": {},
      "cell_type": "markdown",
      "source": "### 7. Applying SVM"
    },
    {
      "metadata": {
        "trusted": true
      },
      "cell_type": "code",
      "source": "from sklearn.svm import SVC",
      "execution_count": 69,
      "outputs": []
    },
    {
      "metadata": {
        "trusted": true
      },
      "cell_type": "code",
      "source": "svc = SVC()\nsvc",
      "execution_count": 71,
      "outputs": [
        {
          "output_type": "execute_result",
          "execution_count": 71,
          "data": {
            "text/plain": "SVC(C=1.0, cache_size=200, class_weight=None, coef0=0.0,\n  decision_function_shape='ovr', degree=3, gamma='auto_deprecated',\n  kernel='rbf', max_iter=-1, probability=False, random_state=None,\n  shrinking=True, tol=0.001, verbose=False)"
          },
          "metadata": {}
        }
      ]
    },
    {
      "metadata": {
        "trusted": true
      },
      "cell_type": "code",
      "source": "svc.fit(x_train, y_train)\ny_pred = svc.predict(x_test)\nprint(\"The accuracy score with SVM is : \", metrics.accuracy_score(y_test,y_pred))",
      "execution_count": 72,
      "outputs": [
        {
          "output_type": "stream",
          "text": "The accuracy score with SVM is :  0.39\n",
          "name": "stdout"
        }
      ]
    },
    {
      "metadata": {},
      "cell_type": "markdown",
      "source": "### 8. Applying Naive Bayes"
    },
    {
      "metadata": {
        "trusted": true
      },
      "cell_type": "code",
      "source": "from sklearn.naive_bayes import GaussianNB",
      "execution_count": 76,
      "outputs": []
    },
    {
      "metadata": {
        "trusted": true
      },
      "cell_type": "code",
      "source": "nb = GaussianNB()\nnb",
      "execution_count": 77,
      "outputs": [
        {
          "output_type": "execute_result",
          "execution_count": 77,
          "data": {
            "text/plain": "GaussianNB(priors=None, var_smoothing=1e-09)"
          },
          "metadata": {}
        }
      ]
    },
    {
      "metadata": {
        "trusted": true
      },
      "cell_type": "code",
      "source": "nb.fit(x_train, y_train)\ny_pred = nb.predict(x_test)\nprint(\"The accuracy score with SVM is : \", metrics.accuracy_score(y_test,y_pred))",
      "execution_count": 78,
      "outputs": [
        {
          "output_type": "stream",
          "text": "The accuracy score with SVM is :  0.375\n",
          "name": "stdout"
        }
      ]
    },
    {
      "metadata": {},
      "cell_type": "markdown",
      "source": "### 9. Applying Random Forest"
    },
    {
      "metadata": {
        "trusted": true
      },
      "cell_type": "code",
      "source": "from sklearn.ensemble import RandomForestClassifier",
      "execution_count": 79,
      "outputs": []
    },
    {
      "metadata": {
        "trusted": true
      },
      "cell_type": "code",
      "source": "rfc = RandomForestClassifier(n_estimators=100, max_depth = 10)\nrfc",
      "execution_count": 82,
      "outputs": [
        {
          "output_type": "execute_result",
          "execution_count": 82,
          "data": {
            "text/plain": "RandomForestClassifier(bootstrap=True, class_weight=None, criterion='gini',\n            max_depth=10, max_features='auto', max_leaf_nodes=None,\n            min_impurity_decrease=0.0, min_impurity_split=None,\n            min_samples_leaf=1, min_samples_split=2,\n            min_weight_fraction_leaf=0.0, n_estimators=100, n_jobs=None,\n            oob_score=False, random_state=None, verbose=0,\n            warm_start=False)"
          },
          "metadata": {}
        }
      ]
    },
    {
      "metadata": {
        "trusted": true
      },
      "cell_type": "code",
      "source": "rfc.fit(x_train,y_train) \ny_pred=rfc.predict(x_test)\nprint(\"The accuracy score with SVM is : \", metrics.accuracy_score(y_test,y_pred))",
      "execution_count": 85,
      "outputs": [
        {
          "output_type": "stream",
          "text": "The accuracy score with SVM is :  0.475\n",
          "name": "stdout"
        }
      ]
    }
  ],
  "metadata": {
    "kernelspec": {
      "name": "python36",
      "display_name": "Python 3.6",
      "language": "python"
    },
    "language_info": {
      "mimetype": "text/x-python",
      "nbconvert_exporter": "python",
      "name": "python",
      "pygments_lexer": "ipython3",
      "version": "3.6.6",
      "file_extension": ".py",
      "codemirror_mode": {
        "version": 3,
        "name": "ipython"
      }
    }
  },
  "nbformat": 4,
  "nbformat_minor": 2
}